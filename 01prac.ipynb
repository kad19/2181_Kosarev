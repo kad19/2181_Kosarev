{
  "nbformat": 4,
  "nbformat_minor": 0,
  "metadata": {
    "colab": {
      "name": "01prac.ipynb",
      "provenance": [],
      "collapsed_sections": [],
      "authorship_tag": "ABX9TyMc0iisf7MbSWQbmnAycTUl",
      "include_colab_link": true
    },
    "kernelspec": {
      "name": "python3",
      "display_name": "Python 3"
    }
  },
  "cells": [
    {
      "cell_type": "markdown",
      "metadata": {
        "id": "view-in-github",
        "colab_type": "text"
      },
      "source": [
        "<a href=\"https://colab.research.google.com/github/kad19/2181_Kosarev_comp_alg/blob/main/01prac.ipynb\" target=\"_parent\"><img src=\"https://colab.research.google.com/assets/colab-badge.svg\" alt=\"Open In Colab\"/></a>"
      ]
    },
    {
      "cell_type": "code",
      "metadata": {
        "colab": {
          "base_uri": "https://localhost:8080/"
        },
        "id": "5GkUlibYERwb",
        "outputId": "b0457137-83dd-44fe-95ca-36dce7e1c533"
      },
      "source": [
        "class Rational:\r\n",
        "  def __init__(self, numerator, denominator = 1):\r\n",
        "    self.numerator = numerator\r\n",
        "    self.denominator = denominator\r\n",
        "\r\n",
        "  def __str__(self):\r\n",
        "    return f\"{self.numerator}/{self.denominator}\"\r\n",
        "\r\n",
        "  def normilize(self):\r\n",
        "    \"\"\"\r\n",
        "    if self.denominator < 0:\r\n",
        "      self. denominator *= -1\r\n",
        "      self.numerator *= -1\r\n",
        "    \"\"\"\r\n",
        "\r\n",
        "    a = self.numerator\r\n",
        "    b = self.denominator\r\n",
        "\r\n",
        "    r=a%b\r\n",
        "    while r:\r\n",
        "      a=b\r\n",
        "      b=r\r\n",
        "      r=a%b\r\n",
        "\r\n",
        "    self.numerator /= b\r\n",
        "    self.denominator /= b\r\n",
        "  \r\n",
        "\"\"\"\r\n",
        "Euclidian Algorithm\r\n",
        "\r\n",
        "a = int(input(\"What's the first number? \"))\r\n",
        "b = int(input(\"What's the second number? \")) \r\n",
        "r=a%b\r\n",
        "while r:\r\n",
        "    a=b\r\n",
        "    b=r\r\n",
        "    r=a%b\r\n",
        "print('GCD is:', b)\r\n",
        "\r\n",
        "or use break in loop:\r\n",
        "\r\n",
        "a = int(input(\"What's the first number? \"))\r\n",
        "b = int(input(\"What's the second number? \")) \r\n",
        "while 1:\r\n",
        "    r=a%b\r\n",
        "    if not r:\r\n",
        "        break\r\n",
        "    a=b\r\n",
        "    b=r\r\n",
        "print('GCD is:', b)\r\n",
        "\"\"\"\r\n",
        "\r\n",
        "\"\"\"\r\n",
        "  def __add__(self, rational2):\r\n",
        "    denominator = self.denominator\r\n",
        "    if self.denominator != rational2.denominator:\r\n",
        "      denominator *= rational2.denominator\r\n",
        "      numerator = \r\n",
        "\"\"\"\r\n",
        "\r\n",
        "r = Rational(3, 12)\r\n",
        "print(r)\r\n",
        "r.normilize()\r\n",
        "print(r)"
      ],
      "execution_count": 13,
      "outputs": [
        {
          "output_type": "stream",
          "text": [
            "3/12\n",
            "1.0/4.0\n"
          ],
          "name": "stdout"
        }
      ]
    }
  ]
}