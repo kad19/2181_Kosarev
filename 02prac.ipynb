{
  "nbformat": 4,
  "nbformat_minor": 0,
  "metadata": {
    "colab": {
      "name": "02prac.ipynb",
      "provenance": [],
      "authorship_tag": "ABX9TyODpiBH+QKQOJG7hCouxORp",
      "include_colab_link": true
    },
    "kernelspec": {
      "name": "python3",
      "display_name": "Python 3"
    }
  },
  "cells": [
    {
      "cell_type": "markdown",
      "metadata": {
        "id": "view-in-github",
        "colab_type": "text"
      },
      "source": [
        "<a href=\"https://colab.research.google.com/github/kad19/2181_Kosarev_comp_alg/blob/main/02prac.ipynb\" target=\"_parent\"><img src=\"https://colab.research.google.com/assets/colab-badge.svg\" alt=\"Open In Colab\"/></a>"
      ]
    },
    {
      "cell_type": "code",
      "metadata": {
        "colab": {
          "base_uri": "https://localhost:8080/"
        },
        "id": "yEeuTGpIEB4K",
        "outputId": "dd38e962-bcb2-4d16-d487-c34c19d87c34"
      },
      "source": [
        "class Polynomial:\r\n",
        "  def __init__(self, *coefs):\r\n",
        "    self.coefs = coefs\r\n",
        "\r\n",
        "  def __str__(self):\r\n",
        "    first = True\r\n",
        "    poly_str = ''\r\n",
        "    max_pwr = len(self.coefs) - 1\r\n",
        "    for coef in reversed(self.coefs):\r\n",
        "      if first:\r\n",
        "        if abs(coef) == 1:\r\n",
        "          if coef == 0:\r\n",
        "            continue\r\n",
        "          if coef > 0:\r\n",
        "            poly_str += f\"x^{max_pwr}\"\r\n",
        "          if coef < 0:\r\n",
        "            poly_str += f\"x^{max_pwr}\"\r\n",
        "        else:\r\n",
        "          if coef == 0:\r\n",
        "            continue\r\n",
        "          if coef > 0:\r\n",
        "            poly_str += f\"{coef}x^{max_pwr}\"\r\n",
        "          if coef < 0:\r\n",
        "            poly_str += f\"{coef}x^{max_pwr}\"\r\n",
        "        max_pwr -= 1\r\n",
        "        first = False\r\n",
        "      elif max_pwr == 0:\r\n",
        "        if coef == 0:\r\n",
        "          continue\r\n",
        "        if coef > 0:\r\n",
        "          poly_str += f\"+{coef}\"\r\n",
        "        if coef < 0:\r\n",
        "          poly_str += f\"{coef}\"\r\n",
        "        max_pwr -= 1\r\n",
        "      else:\r\n",
        "        if abs(coef) == 1:\r\n",
        "          if coef == 0:\r\n",
        "            continue\r\n",
        "          if coef > 0:\r\n",
        "            poly_str += f\"+x^{max_pwr}\"\r\n",
        "          if coef < 0:\r\n",
        "            poly_str += f\"x^{max_pwr}\"\r\n",
        "        else:\r\n",
        "          if coef == 0:\r\n",
        "            continue\r\n",
        "          if coef > 0:\r\n",
        "            poly_str += f\"+{coef}x^{max_pwr}\"\r\n",
        "          if coef < 0:\r\n",
        "            poly_str += f\"{coef}x^{max_pwr}\"\r\n",
        "        max_pwr -= 1\r\n",
        "      \r\n",
        "    return poly_str\r\n",
        "\r\n",
        "  def __add__(self, poly2):\r\n",
        "    poly_coefs = self.coefs[::-1]\r\n",
        "    poly2_coefs = poly2.coefs[::-1]\r\n",
        "    new_coefs = []\r\n",
        "    if len(poly_coefs) > len(poly2_coefs):\r\n",
        "      poly_coefs, poly2_coefs = poly2_coefs, poly_coefs\r\n",
        "    poly2_coefs = [] + list(poly2_coefs) + [] * (len(poly_coefs) - len(poly2_coefs))\r\n",
        "    for i in range(len(poly_coefs)):\r\n",
        "      new_coefs.append(poly_coefs[i] + poly2_coefs[i])\r\n",
        "\r\n",
        "    new_coefs = new_coefs[::-1]\r\n",
        "    return Polynomial(*new_coefs)\r\n",
        "\r\n",
        "  def __sub__(self, rational2):\r\n",
        "    pass\r\n",
        "  def __mul__(self, rational2):\r\n",
        "    pass\r\n",
        "\r\n",
        "poly = Polynomial(1, 0, -3, 1, 1)\r\n",
        "poly2 = Polynomial(1, 0, -3, 1)\r\n",
        "poly3 = poly + poly2\r\n",
        "print(poly3)"
      ],
      "execution_count": 24,
      "outputs": [
        {
          "output_type": "stream",
          "text": [
            "2x^3-2x^2-3x^1+1\n"
          ],
          "name": "stdout"
        }
      ]
    }
  ]
}